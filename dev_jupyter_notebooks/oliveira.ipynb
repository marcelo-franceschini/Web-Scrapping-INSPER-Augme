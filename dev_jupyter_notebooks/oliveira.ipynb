{
 "cells": [
  {
   "cell_type": "code",
   "execution_count": null,
   "id": "778b5be0",
   "metadata": {
    "ExecuteTime": {
     "end_time": "2022-12-15T19:51:18.814325Z",
     "start_time": "2022-12-15T19:51:18.809325Z"
    }
   },
   "outputs": [],
   "source": [
    "import requests\n",
    "import json\n",
    "from pandas import read_excel\n",
    "from os import path\n",
    "from os import mkdir\n",
    "import re"
   ]
  },
  {
   "cell_type": "code",
   "execution_count": null,
   "id": "7b86cd73",
   "metadata": {
    "ExecuteTime": {
     "end_time": "2022-12-15T19:56:08.058722Z",
     "start_time": "2022-12-15T19:56:08.042022Z"
    }
   },
   "outputs": [],
   "source": [
    "# ALTERAR\n",
    "PATH_EXCEL = r'C:\\airflow\\data\\Lista Codigos e Fiduciário.xlsx'\n",
    "PATH_DOWNLOAD = r'C:\\airflow\\data\\downloads\\oliveira'\n",
    "# NÃO ALTERAR\n",
    "URL_TO_IGNORE = r'https://www.oliveiratrust.com.br/portal/leitor/#'"
   ]
  },
  {
   "cell_type": "code",
   "execution_count": null,
   "id": "e5de664d",
   "metadata": {
    "ExecuteTime": {
     "end_time": "2022-12-15T19:30:36.533229Z",
     "start_time": "2022-12-15T19:30:36.522191Z"
    }
   },
   "outputs": [],
   "source": [
    "def get_ifs_from_excel(PATH_EXCEL, ag_fid):\n",
    "    \"\"\"\n",
    "    Lê os ativos a partir do arquivo de Excel\n",
    "    \"\"\"\n",
    "    df = read_excel(PATH_EXCEL, skiprows=1, usecols=\"B,C\")\n",
    "    return list(df[df[\"Fiduciario\"] == ag_fid][\"Codigo\"])"
   ]
  },
  {
   "cell_type": "code",
   "execution_count": null,
   "id": "4879f981",
   "metadata": {
    "ExecuteTime": {
     "end_time": "2022-12-15T19:30:36.689371Z",
     "start_time": "2022-12-15T19:30:36.677372Z"
    }
   },
   "outputs": [],
   "source": [
    "def get_ids_from_website():\n",
    "    \"\"\"\n",
    "    Faz a requisição GET para pegar todos os ativos do site\n",
    "    \"\"\"\n",
    "    papeis = {}\n",
    "    params = {\n",
    "        \"indexador\": \"TODOS\",\n",
    "        \"order\": \"nome\",\n",
    "        \"page\": \"0\",\n",
    "        \"search\": \"\",\n",
    "        \"type\": \"todos\",\n",
    "    }\n",
    "    response = requests.get(\n",
    "        \"https://api.oliveiratrust.com.br/v1/titulos/todos\", params=params\n",
    "    ).json()\n",
    "    return response"
   ]
  },
  {
   "cell_type": "code",
   "execution_count": null,
   "id": "c5035bd4",
   "metadata": {
    "ExecuteTime": {
     "end_time": "2022-12-15T19:30:36.955449Z",
     "start_time": "2022-12-15T19:30:36.952450Z"
    }
   },
   "outputs": [],
   "source": [
    "def filtra_ativos(ativos_excel, ativos_site):\n",
    "    \"\"\"\n",
    "    Filtra os ativos do site com os ativos do Excel\n",
    "    \"\"\"\n",
    "    return list(\n",
    "        map(\n",
    "            lambda x: (x[\"tit\"], x[\"tipo\"], x[\"cod_sirsan\"]),\n",
    "            filter(lambda x: x[\"cod_sirsan\"] in ativos_excel, ativos_site),\n",
    "        )\n",
    "    )"
   ]
  },
  {
   "cell_type": "code",
   "execution_count": null,
   "id": "e217b925",
   "metadata": {},
   "outputs": [],
   "source": [
    "def download_documents(ativos_filtrados):\n",
    "    for ativo in ativos_filtrados:\n",
    "        # Pega o código de Download do ativo\n",
    "        download_id = requests.get(\n",
    "            f\"https://api.oliveiratrust.com.br/v1/titulos/{ativo[0]}\"\n",
    "        ).json()[0][\"codigo_operacao\"]\n",
    "        documentos = requests.get(\n",
    "            f\"https://api.oliveiratrust.com.br/v1/titulos/{ativo[1].lower()}/downloads/{download_id}\"\n",
    "        ).json()\n",
    "        if len(documentos) != 0:\n",
    "            folder_agente_ativo = path.join(PATH_DOWNLOAD, ativo[2])\n",
    "            # Verifica se a pasta AGENTE/ATIVO existe\n",
    "            if not path.exists(folder_agente_ativo):\n",
    "                mkdir(folder_agente_ativo)\n",
    "            for documento in documentos:\n",
    "                folder_agente_ativo_tipodoc = path.join(\n",
    "                    folder_agente_ativo, documento[\"subitem\"].strip()\n",
    "                )\n",
    "                # Verifica se a pasta AGETE/ATIVO/TIPODOCUMENTO\n",
    "                if not path.exists(folder_agente_ativo_tipodoc):\n",
    "                    mkdir(folder_agente_ativo_tipodoc)\n",
    "                file_name = (\n",
    "                    documento[\"descricao\"] + \"-\" + path.basename(documento[\"link\"])\n",
    "                )\n",
    "                file_path = path.join(\n",
    "                    folder_agente_ativo_tipodoc, re.sub(\"[\\/]\", \"\", file_name)\n",
    "                )\n",
    "                # Verifica se o arquivo existe\n",
    "                if path.exists(file_path):\n",
    "                    # Enviar e-mail\n",
    "                    pass\n",
    "                else:\n",
    "                    with open(file_path, \"wb\") as file:\n",
    "                        file.write(\n",
    "                            requests.get(\n",
    "                                documento[\"link\"].replace(URL_TO_IGNORE, \"\")\n",
    "                            ).content\n",
    "                        )"
   ]
  },
  {
   "cell_type": "code",
   "execution_count": null,
   "id": "d42cedc5",
   "metadata": {
    "ExecuteTime": {
     "end_time": "2022-12-15T19:30:41.092838Z",
     "start_time": "2022-12-15T19:30:37.761309Z"
    }
   },
   "outputs": [],
   "source": [
    "ativos_excel = get_ifs_from_excel(PATH_EXCEL, \"OLIVEIRA TRUST DTVM \")\n",
    "ativos_site = get_ids_from_website()\n",
    "ativos_filtrados = filtra_ativos(ativos_excel, ativos_site)\n",
    "download_documents(ativos_filtrados)"
   ]
  },
  {
   "cell_type": "code",
   "execution_count": null,
   "id": "97c5a465",
   "metadata": {
    "ExecuteTime": {
     "end_time": "2022-12-15T19:07:52.152851Z",
     "start_time": "2022-12-15T19:07:52.136851Z"
    }
   },
   "outputs": [],
   "source": [
    "ativos_nao_encontrados"
   ]
  },
  {
   "cell_type": "code",
   "execution_count": null,
   "id": "dd14b767",
   "metadata": {},
   "outputs": [],
   "source": []
  }
 ],
 "metadata": {
  "kernelspec": {
   "display_name": "Python 3 (ipykernel)",
   "language": "python",
   "name": "python3"
  },
  "language_info": {
   "codemirror_mode": {
    "name": "ipython",
    "version": 3
   },
   "file_extension": ".py",
   "mimetype": "text/x-python",
   "name": "python",
   "nbconvert_exporter": "python",
   "pygments_lexer": "ipython3",
   "version": "3.10.8"
  }
 },
 "nbformat": 4,
 "nbformat_minor": 5
}
