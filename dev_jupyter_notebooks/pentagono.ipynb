{
 "cells": [
  {
   "cell_type": "code",
   "execution_count": 1,
   "id": "7283cba5",
   "metadata": {
    "ExecuteTime": {
     "end_time": "2022-12-16T12:49:07.639306Z",
     "start_time": "2022-12-16T12:49:07.254069Z"
    }
   },
   "outputs": [],
   "source": [
    "import requests\n",
    "from bs4 import BeautifulSoup\n",
    "from pandas import read_excel\n",
    "from os import path, mkdir\n",
    "from urllib.request import pathname2url\n",
    "from augme_utils.vanadio import emailVanadio"
   ]
  },
  {
   "cell_type": "code",
   "execution_count": 2,
   "id": "acf1b14a",
   "metadata": {
    "ExecuteTime": {
     "end_time": "2022-12-16T12:49:07.655308Z",
     "start_time": "2022-12-16T12:49:07.641308Z"
    }
   },
   "outputs": [],
   "source": [
    "# ALTERAR\n",
    "PATH_EXCEL = r\"..\\\\Lista Codigos e Fiduciário.xlsx\"\n",
    "PATH_DOWNLOAD = r\"..\\\\downloads\\pentagono\"\n",
    "# NÃO ALTERAR\n",
    "DOWNLOAD_BASE_URL = \"https://pentagonotrustee.com.br/Site/DownloadBinario?id=\""
   ]
  },
  {
   "cell_type": "code",
   "execution_count": 3,
   "id": "9be71ae7",
   "metadata": {
    "ExecuteTime": {
     "end_time": "2022-12-16T12:49:07.702423Z",
     "start_time": "2022-12-16T12:49:07.656308Z"
    }
   },
   "outputs": [],
   "source": [
    "def get_ifs_from_excel(PATH_EXCEL, ag_fid):\n",
    "    \"\"\"\n",
    "    Lê os ativos a partir do arquivo de Excel\n",
    "    \"\"\"\n",
    "    df = read_excel(PATH_EXCEL, skiprows=1, usecols=\"B,C\")\n",
    "    return list(df[df[\"Fiduciario\"] == ag_fid][\"Codigo\"])"
   ]
  },
  {
   "cell_type": "code",
   "execution_count": 4,
   "id": "a8ce86aa",
   "metadata": {
    "ExecuteTime": {
     "end_time": "2022-12-16T12:49:07.750333Z",
     "start_time": "2022-12-16T12:49:07.731270Z"
    }
   },
   "outputs": [],
   "source": [
    "def get_ids_from_website(ativos):\n",
    "    documentos = []\n",
    "    for ativo in ativos:\n",
    "        soup = BeautifulSoup(\n",
    "            requests.get(\n",
    "                f\"https://pentagonotrustee.com.br/Site/DetalhesEmissor?ativo={ativo}&aba=tab-2&tipo=1\"\n",
    "            ).content\n",
    "        )\n",
    "        documentos.extend(\n",
    "            list(\n",
    "                map(\n",
    "                    lambda x: (\n",
    "                        ativo,\n",
    "                        x[\"title\"],\n",
    "                        DOWNLOAD_BASE_URL + x[\"onclick\"][16:-1],\n",
    "                    ),\n",
    "                    soup.find_all(\"a\", {\"style\": \"color: dimgrey\"}),\n",
    "                )\n",
    "            )\n",
    "        )\n",
    "    return documentos"
   ]
  },
  {
   "cell_type": "code",
   "execution_count": 5,
   "id": "7a70073e",
   "metadata": {
    "ExecuteTime": {
     "end_time": "2022-12-16T12:50:20.531940Z",
     "start_time": "2022-12-16T12:50:20.527938Z"
    }
   },
   "outputs": [],
   "source": [
    "def download_documents(documentos):\n",
    "    downloaded_files = []\n",
    "    for documento in documentos:\n",
    "        # Verifica se a a pasta AGENTE/ATIVO existe\n",
    "        folder_agente_ativo = path.join(PATH_DOWNLOAD, documento[0])\n",
    "        if not path.exists(folder_agente_ativo):\n",
    "            mkdir(folder_agente_ativo)\n",
    "        # Verifica se arquivo existe\n",
    "        file_path = path.join(folder_agente_ativo, documento[1])\n",
    "        if not path.exists(file_path):\n",
    "            # Download\n",
    "            with open(file_path, \"wb\") as file:\n",
    "                file.write(requests.get(documento[2], stream=True).content)\n",
    "            downloaded_files.append(file_path)\n",
    "    return downloaded_files"
   ]
  },
  {
   "cell_type": "code",
   "execution_count": 6,
   "id": "ccab485e",
   "metadata": {},
   "outputs": [],
   "source": [
    "def prepare_email_body(new_files):\n",
    "    email_body = \"Novos arquivos foram salvos no diretório:<br><br><br>\"\n",
    "    for new_file_path in new_files:\n",
    "        email_body += f'<a href=\"{pathname2url(path.abspath(new_file_path))}\">{path.basename(new_file_path)}</a><br>'\n",
    "    return email_body"
   ]
  },
  {
   "cell_type": "code",
   "execution_count": 7,
   "id": "9c12ebf5",
   "metadata": {},
   "outputs": [],
   "source": [
    "def send_new_files_email(email_body):\n",
    "    with emailVanadio.AugmeMail() as mailbox:\n",
    "        # Colocar os emails aqui e assunto aqui\n",
    "        mailbox.send_mail(receiver=\"\", subject=\"PENTAGONO\", body=email_body)"
   ]
  },
  {
   "cell_type": "code",
   "execution_count": 8,
   "id": "d7d562c1",
   "metadata": {
    "ExecuteTime": {
     "end_time": "2022-12-16T12:49:51.194198Z",
     "start_time": "2022-12-16T12:49:16.057928Z"
    }
   },
   "outputs": [],
   "source": [
    "ativos_excel = get_ifs_from_excel(PATH_EXCEL, \"PENTAGONO DTVM\")\n",
    "documentos = get_ids_from_website(ativos_excel)\n",
    "new_files = download_documents(documentos)\n",
    "if new_files:\n",
    "    send_new_files_email(prepare_email_body(new_files))"
   ]
  },
  {
   "cell_type": "code",
   "execution_count": null,
   "id": "7cd03c62",
   "metadata": {
    "ExecuteTime": {
     "start_time": "2022-12-16T12:50:24.383Z"
    }
   },
   "outputs": [],
   "source": []
  },
  {
   "cell_type": "code",
   "execution_count": null,
   "id": "8a68c79c",
   "metadata": {},
   "outputs": [],
   "source": []
  }
 ],
 "metadata": {
  "kernelspec": {
   "display_name": "Python 3",
   "language": "python",
   "name": "python3"
  },
  "language_info": {
   "codemirror_mode": {
    "name": "ipython",
    "version": 3
   },
   "file_extension": ".py",
   "mimetype": "text/x-python",
   "name": "python",
   "nbconvert_exporter": "python",
   "pygments_lexer": "ipython3",
   "version": "3.10.8"
  },
  "vscode": {
   "interpreter": {
    "hash": "369f2c481f4da34e4445cda3fffd2e751bd1c4d706f27375911949ba6bb62e1c"
   }
  }
 },
 "nbformat": 4,
 "nbformat_minor": 5
}
