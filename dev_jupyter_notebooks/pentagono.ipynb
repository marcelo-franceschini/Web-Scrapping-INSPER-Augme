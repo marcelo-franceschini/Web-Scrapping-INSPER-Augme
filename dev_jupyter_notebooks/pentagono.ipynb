{
 "cells": [
  {
   "cell_type": "code",
   "execution_count": null,
   "id": "7283cba5",
   "metadata": {
    "ExecuteTime": {
     "end_time": "2022-12-16T12:49:07.639306Z",
     "start_time": "2022-12-16T12:49:07.254069Z"
    }
   },
   "outputs": [],
   "source": [
    "import requests\n",
    "from bs4 import BeautifulSoup\n",
    "from pandas import read_excel\n",
    "from os import path, mkdir"
   ]
  },
  {
   "cell_type": "code",
   "execution_count": null,
   "id": "acf1b14a",
   "metadata": {
    "ExecuteTime": {
     "end_time": "2022-12-16T12:49:07.655308Z",
     "start_time": "2022-12-16T12:49:07.641308Z"
    }
   },
   "outputs": [],
   "source": [
    "# ALTERAR\n",
    "PATH_EXCEL = r'C:\\airflow\\data\\Lista Codigos e Fiduciário.xlsx'\n",
    "PATH_DOWNLOAD = r'C:\\airflow\\data\\downloads\\pentagono'\n",
    "# NÃO ALTERAR\n",
    "DOWNLOAD_BASE_URL = 'https://pentagonotrustee.com.br/Site/DownloadBinario?id='"
   ]
  },
  {
   "cell_type": "code",
   "execution_count": null,
   "id": "9be71ae7",
   "metadata": {
    "ExecuteTime": {
     "end_time": "2022-12-16T12:49:07.702423Z",
     "start_time": "2022-12-16T12:49:07.656308Z"
    }
   },
   "outputs": [],
   "source": [
    "def get_ifs_from_excel(PATH_EXCEL, ag_fid):\n",
    "    \"\"\"\n",
    "    Lê os ativos a partir do arquivo de Excel\n",
    "    \"\"\"\n",
    "    df = read_excel(PATH_EXCEL, skiprows=1, usecols=\"B,C\")\n",
    "    return list(df[df[\"Fiduciario\"] == ag_fid][\"Codigo\"])"
   ]
  },
  {
   "cell_type": "code",
   "execution_count": null,
   "id": "a8ce86aa",
   "metadata": {
    "ExecuteTime": {
     "end_time": "2022-12-16T12:49:07.750333Z",
     "start_time": "2022-12-16T12:49:07.731270Z"
    }
   },
   "outputs": [],
   "source": [
    "def get_ids_from_website(ativos):\n",
    "    documentos = []\n",
    "    for ativo in ativos:\n",
    "        soup = BeautifulSoup(\n",
    "            requests.get(\n",
    "                f\"https://pentagonotrustee.com.br/Site/DetalhesEmissor?ativo={ativo}&aba=tab-2&tipo=1\"\n",
    "            ).content\n",
    "        )\n",
    "        documentos.extend(\n",
    "            list(\n",
    "                map(\n",
    "                    lambda x: (ativo, x[\"title\"], DOWNLOAD_BASE_URL + x[\"onclick\"][16:-1]),\n",
    "                    soup.find_all(\"a\", {\"style\": \"color: dimgrey\"}),\n",
    "                )\n",
    "            )\n",
    "        )\n",
    "    return documentos"
   ]
  },
  {
   "cell_type": "code",
   "execution_count": null,
   "id": "7a70073e",
   "metadata": {
    "ExecuteTime": {
     "end_time": "2022-12-16T12:50:20.531940Z",
     "start_time": "2022-12-16T12:50:20.527938Z"
    }
   },
   "outputs": [],
   "source": [
    "def create_folder_alert_download(documentos):\n",
    "    for documento in documentos:\n",
    "        # Verifica se a a pasta AGENTE/ATIVO existe\n",
    "        folder_agente_ativo = path.join(PATH_DOWNLOAD, documento[0])\n",
    "        if not path.exists(folder_agente_ativo):\n",
    "            mkdir(folder_agente_ativo)\n",
    "        # Verifica se arquivo existe\n",
    "        file_path = path.join(folder_agente_ativo, documento[1])\n",
    "        if not path.exists(file_path):\n",
    "            # Download\n",
    "            with open(file_path, 'wb') as file:\n",
    "                file.write(requests.get(documento[2], stream = True).content)\n",
    "        else:\n",
    "            # Enviar email\n",
    "            pass"
   ]
  },
  {
   "cell_type": "code",
   "execution_count": null,
   "id": "d7d562c1",
   "metadata": {
    "ExecuteTime": {
     "end_time": "2022-12-16T12:49:51.194198Z",
     "start_time": "2022-12-16T12:49:16.057928Z"
    }
   },
   "outputs": [],
   "source": [
    "ativos_excel = get_ifs_from_excel(PATH_EXCEL, \"PENTAGONO DTVM\")\n",
    "documentos = get_ids_from_website(ativos_excel)\n",
    "create_folder_alert_download(documentos)"
   ]
  },
  {
   "cell_type": "code",
   "execution_count": null,
   "id": "7cd03c62",
   "metadata": {
    "ExecuteTime": {
     "start_time": "2022-12-16T12:50:24.383Z"
    }
   },
   "outputs": [],
   "source": []
  },
  {
   "cell_type": "code",
   "execution_count": null,
   "id": "8a68c79c",
   "metadata": {},
   "outputs": [],
   "source": []
  }
 ],
 "metadata": {
  "kernelspec": {
   "display_name": "Python 3 (ipykernel)",
   "language": "python",
   "name": "python3"
  },
  "language_info": {
   "codemirror_mode": {
    "name": "ipython",
    "version": 3
   },
   "file_extension": ".py",
   "mimetype": "text/x-python",
   "name": "python",
   "nbconvert_exporter": "python",
   "pygments_lexer": "ipython3",
   "version": "3.10.8"
  }
 },
 "nbformat": 4,
 "nbformat_minor": 5
}
