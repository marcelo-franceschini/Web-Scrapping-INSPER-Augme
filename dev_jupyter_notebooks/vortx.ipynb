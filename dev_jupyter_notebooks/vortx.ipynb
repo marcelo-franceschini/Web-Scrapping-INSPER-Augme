{
 "cells": [
  {
   "cell_type": "code",
   "execution_count": 1,
   "id": "2ecf40e2",
   "metadata": {
    "ExecuteTime": {
     "end_time": "2022-12-16T01:02:20.108282Z",
     "start_time": "2022-12-16T01:02:19.761109Z"
    }
   },
   "outputs": [],
   "source": [
    "from pandas import read_excel\n",
    "from json import loads\n",
    "import requests\n",
    "from os import mkdir, path\n",
    "import re"
   ]
  },
  {
   "cell_type": "code",
   "execution_count": 2,
   "id": "ef95030f",
   "metadata": {
    "ExecuteTime": {
     "end_time": "2022-12-16T01:02:20.124282Z",
     "start_time": "2022-12-16T01:02:20.109283Z"
    }
   },
   "outputs": [],
   "source": [
    "PATH_EXCEL = r'C:\\airflow\\data\\Lista Codigos e Fiduciário.xlsx'\n",
    "PATH_DOWNLOAD = r'C:\\airflow\\data\\downloads\\vortx'"
   ]
  },
  {
   "cell_type": "code",
   "execution_count": 3,
   "id": "6a0c889e",
   "metadata": {
    "ExecuteTime": {
     "end_time": "2022-12-16T01:02:20.171846Z",
     "start_time": "2022-12-16T01:02:20.125286Z"
    }
   },
   "outputs": [],
   "source": [
    "def get_ids_from_website():\n",
    "    ativos = []\n",
    "    for tipo_ativo in range(1, 4):\n",
    "        params = {\"tipoOper\": str(tipo_ativo)}\n",
    "        ativos.extend(\n",
    "            loads(\n",
    "                requests.get(\n",
    "                    \"https://vxinforma.vortx.com.br/WsSite/OperacoesListar.php\",\n",
    "                    params=params,\n",
    "                ).content.decode(\"utf-8-sig\")\n",
    "            )[\"data\"]\n",
    "        )\n",
    "    return ativos"
   ]
  },
  {
   "cell_type": "code",
   "execution_count": 4,
   "id": "2fbb2e8d",
   "metadata": {
    "ExecuteTime": {
     "end_time": "2022-12-16T01:02:20.219654Z",
     "start_time": "2022-12-16T01:02:20.173848Z"
    }
   },
   "outputs": [],
   "source": [
    "def get_ifs_from_excel(PATH_EXCEL, ag_fid):\n",
    "    \"\"\"\n",
    "    Lê os ativos a partir do arquivo de Excel\n",
    "    \"\"\"\n",
    "    df = read_excel(PATH_EXCEL, skiprows=1, usecols=\"B,C\")\n",
    "    return list(df[df[\"Fiduciario\"] == ag_fid][\"Codigo\"])"
   ]
  },
  {
   "cell_type": "code",
   "execution_count": 5,
   "id": "75111f84",
   "metadata": {
    "ExecuteTime": {
     "end_time": "2022-12-16T01:02:20.267779Z",
     "start_time": "2022-12-16T01:02:20.220654Z"
    }
   },
   "outputs": [],
   "source": [
    "def filtra_ativos(ativos_excel, ativos_site):\n",
    "    \"\"\"\n",
    "    Filtra os ativos do site com os ativos do Excel\n",
    "    \"\"\"\n",
    "    return list(\n",
    "        map(\n",
    "            lambda x: (x[\"codigo\"], x[\"codIf\"]),\n",
    "            filter(lambda x: x[\"codIf\"] in ativos_excel, ativos_site),\n",
    "        )\n",
    "    )"
   ]
  },
  {
   "cell_type": "code",
   "execution_count": 6,
   "id": "ca0902d0",
   "metadata": {
    "ExecuteTime": {
     "end_time": "2022-12-16T01:02:20.330859Z",
     "start_time": "2022-12-16T01:02:20.268782Z"
    }
   },
   "outputs": [],
   "source": [
    "def download_documents(ativos_filtrados):\n",
    "    for ativo in ativos_filtrados:\n",
    "        documentos = requests.get(f'https://apis.vortx.com.br/vxsite/api/operacao/{ativo[0]}/documentos-por-tipo').json()\n",
    "        # Verifica se a pasta AGENTE/ATIVO existe\n",
    "        folder_agente_ativo = path.join(PATH_DOWNLOAD, ativo[1])\n",
    "        if not path.exists(folder_agente_ativo):\n",
    "            mkdir(folder_agente_ativo)\n",
    "        for tipo_doc in documentos:\n",
    "            # Verifica se a pasta AGETE/ATIVO/TIPODOCUMENTO\n",
    "            folder_agente_ativo_tipodoc = path.join(folder_agente_ativo, re.sub(\"[\\/]\", \"\", tipo_doc['type']))\n",
    "            if not path.exists(folder_agente_ativo_tipodoc):\n",
    "                mkdir(folder_agente_ativo_tipodoc)\n",
    "            for documento in tipo_doc['documents']:\n",
    "                # Verifica se o arquivo existe\n",
    "                file_name = path.basename(documento['url'])\n",
    "                file_path = path.join(folder_agente_ativo_tipodoc, file_name)\n",
    "                if path.exists(file_path):\n",
    "                    # Enviar e-mail\n",
    "                    pass\n",
    "                else:\n",
    "                    # Download\n",
    "                    with open(file_path, \"wb\") as file:\n",
    "                        file.write(requests.get(documento['url']).content)"
   ]
  },
  {
   "cell_type": "code",
   "execution_count": 7,
   "id": "199a7e1b",
   "metadata": {
    "ExecuteTime": {
     "end_time": "2022-12-16T01:02:28.654168Z",
     "start_time": "2022-12-16T01:02:20.332862Z"
    }
   },
   "outputs": [],
   "source": [
    "ativos_excel = get_ifs_from_excel(PATH_EXCEL, \"VORTX DTVM\")\n",
    "ativos_site = get_ids_from_website()\n",
    "ativos_filtrados = filtra_ativos(ativos_excel, ativos_site)\n",
    "download_documents(ativos_filtrados)"
   ]
  },
  {
   "cell_type": "code",
   "execution_count": null,
   "id": "5a2d93c2",
   "metadata": {},
   "outputs": [],
   "source": []
  }
 ],
 "metadata": {
  "kernelspec": {
   "display_name": "Python 3 (ipykernel)",
   "language": "python",
   "name": "python3"
  },
  "language_info": {
   "codemirror_mode": {
    "name": "ipython",
    "version": 3
   },
   "file_extension": ".py",
   "mimetype": "text/x-python",
   "name": "python",
   "nbconvert_exporter": "python",
   "pygments_lexer": "ipython3",
   "version": "3.10.8"
  }
 },
 "nbformat": 4,
 "nbformat_minor": 5
}
